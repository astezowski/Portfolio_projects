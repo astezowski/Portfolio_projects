{
 "cells": [
  {
   "cell_type": "code",
   "execution_count": 631,
   "id": "03d12a89-e1b0-4c75-b9cc-a7468d394180",
   "metadata": {},
   "outputs": [],
   "source": [
    "import sqlite3"
   ]
  },
  {
   "cell_type": "code",
   "execution_count": 633,
   "id": "14d9067b-aaa1-49bc-b61e-8086a0123693",
   "metadata": {},
   "outputs": [],
   "source": [
    "import datetime"
   ]
  },
  {
   "cell_type": "code",
   "execution_count": 635,
   "id": "ecb2b286-d717-45a3-b9d9-8bdaa5a65ce5",
   "metadata": {},
   "outputs": [],
   "source": [
    "create_suppliers_table = '''CREATE TABLE suppliers (\n",
    "                            supplier_id INTEGER PRIMARY KEY,\n",
    "                            supplier_name TEXT,\n",
    "                            contact_name TEXT,\n",
    "                            email TEXT,\n",
    "                            phone_number TEXT,\n",
    "                            industry TEXT,\n",
    "                            location TEXT\n",
    "                        )'''"
   ]
  },
  {
   "cell_type": "code",
   "execution_count": 637,
   "id": "162c4855-35c2-425d-9caa-3c28904a4397",
   "metadata": {},
   "outputs": [],
   "source": [
    "create_contracts_table = '''CREATE TABLE contracts (\n",
    "                            contract_id INTEGER PRIMARY KEY,\n",
    "                            supplier_id INTEGER, \n",
    "                            contract_start_date DATE,\n",
    "                            contract_end_date DATE,\n",
    "                            renewal_option_yes_or_no TEXT,\n",
    "                            contract_value_euros INTEGER,\n",
    "                            contract_type TEXT,\n",
    "                            FOREIGN KEY (supplier_id) REFERENCES suppliers(supplier_id)\n",
    "                        )'''"
   ]
  },
  {
   "cell_type": "code",
   "execution_count": 639,
   "id": "f77358fb-652e-4318-a37e-d479c5b3c2c4",
   "metadata": {},
   "outputs": [],
   "source": [
    "create_supplier_performance_table = '''CREATE TABLE performances (\n",
    "                                       performance_id INTEGER PRIMARY KEY,\n",
    "                                       supplier_id INTEGER,\n",
    "                                       delivery_time_days INTEGER,\n",
    "                                       quality_score_rating_comments TEXT,\n",
    "                                       order_accuracy_Percent INTEGER,\n",
    "                                       responsiveness_rating TEXT,\n",
    "                                       review_date DATE,\n",
    "                                       FOREIGN KEY (supplier_id) REFERENCES suppliers(supplier_id)\n",
    "                                  )'''"
   ]
  },
  {
   "cell_type": "code",
   "execution_count": 641,
   "id": "8c274876-56e4-4c6f-92da-96fa5bb062ec",
   "metadata": {},
   "outputs": [],
   "source": [
    "insert_suppliers_data = '''INSERT INTO suppliers (supplier_id, supplier_name, contact_name, email, phone_number, industry, location) VALUES (?,?,?,?,?,?,?)'''"
   ]
  },
  {
   "cell_type": "code",
   "execution_count": 643,
   "id": "a916a8c0-83a6-484d-812b-420f9bad6467",
   "metadata": {},
   "outputs": [],
   "source": [
    "insert_contracts_data =  '''INSERT INTO contracts (contract_id, supplier_id, contract_start_date, contract_end_date, renewal_option_yes_or_no, contract_value_euros, contract_type) VALUES (?,?,?,?,?,?,?)'''"
   ]
  },
  {
   "cell_type": "code",
   "execution_count": 645,
   "id": "e3e3fb28-bb22-4eef-86e6-eaa1117e89d9",
   "metadata": {},
   "outputs": [],
   "source": [
    "insert_supplier_performance_data = '''INSERT INTO performances (performance_id, supplier_id, delivery_time_days, quality_score_rating_comments, order_accuracy_Percent, responsiveness_rating, review_date) VALUES (?,?,?,?,?,?,?)'''"
   ]
  },
  {
   "cell_type": "code",
   "execution_count": 647,
   "id": "a8a97f3f-25e9-45f9-9abb-04b12f2ee83c",
   "metadata": {},
   "outputs": [],
   "source": [
    "suppliers = [\n",
    "    (1,'EcoWave Energy Solutions','Johann Bauer','johannbauer@ecowave.at','+43 650 123 4567','Solar Power','Austria'),\n",
    "    (2,'Planeta Verde','Fernando Gonzales','Fernandogonzales@greenplanet.ar','+54 261 234 5678','Solar Power','Argentina'),\n",
    "    (3,'Solaria Synergy','Elisabeth Koller','elisabethkoller@solariasynergy.at','+43 676 234 5678','Hydropower Industry','Austria'),\n",
    "    (4,'Progression rapide','Sophie Dubois','sophiedubois@progressionrapide.fr','+33 6 12 34 56 78','Hydropower Industry','France'),\n",
    "    (5,'WindFusion Dynamics','Lukas Mayerhofer','lukasmayerhofer@windfusion.at','+43 664 345 6789','Geothermal Energy','Austria'),\n",
    "    (6,'PureEarth Erneuerbare Energien','Anna Huber','annahuber@pureearth.at','+43 681 432 1098','Bioenergy','Austria'),\n",
    "    (7,'Nova energija budućnosti','Marko Kovačević','markokovačević@novaenergija.hr','+385 1 2345 6789','Hydrogen Energy','Croatia'),\n",
    "    (8,'TerraNova-Kraft','Klara Steiner','klarasteiner@terranova.at','+43 720 654 3210','Batteries','Austria'),\n",
    "    (9,'Grande terra','Alessandro Ricci','alessandroricci@grandeterra.it','+39 347 1234567','Batteries','Italy'),\n",
    "    (10,'EcoLoom Energy Systems','Franz Leitner','Franzleitner@ecoloom.de','+49 151 23456789','Carbon Capture','Germany'),\n",
    "    (11, 'HelioSphere Solutions','Matthias Ebner','matthiasebner@heliosphere.at','+43 676 908 7654','Energy Resources','Austria'),\n",
    "    (12, 'Servicios públicos GreenFlare','Salva Castillo','salvacastillo@greenflare.es','+34 664 321 0987','Utilities','Spain'),\n",
    "    (13,'GreenPulse Power Co','Maximilian Gruber','maximiliangruber@greenpulse.at','+43 699 987 6543','Wind Energy','Austria'),\n",
    "    (14,'EverBlue Energy Group','AJ Miller','ajmiller@everblue.at','+43 662 210 9876','Hydrogen Energy','Austria'),\n",
    "    (15,'GrupaZawsze Dobra Energia','Jakub Kowalski','jakubkowalski@grupazawsze.pl','+48 501 234 567','Hydrogen Energy','Poland'),\n",
    "    (16,'ATerraéBoa','João Silva','joãosilva@ATerraéBoa.pt','+351 912 345 678','Bioenergy','Portugal'),\n",
    "    (17,'УштедитеEнергију','Ana Petrović','Anapetrović@УштедитеEнергију.rs','+381 64 234 5678','Geothermal Energy','Serbia')\n",
    "]"
   ]
  },
  {
   "cell_type": "code",
   "execution_count": 649,
   "id": "9d396e63-ab99-40c4-a73b-060b1330276d",
   "metadata": {},
   "outputs": [],
   "source": [
    "contracts = [\n",
    "    (1,1,'2024-08-24','2028-09-24','y',100000,'Firm Fixed-Price'),\n",
    "    (2,1,'2028-09-25','2030-09-24','n',100000,'Firm Fixed-Price'),\n",
    "    (3,2,'2024-05-03','2026-05-03','n',5000,'Firm Fixed-Price'),\n",
    "    (4,3,'2020-01-13','2024-10-14','y',15000,'Cost-Plus Fixed Fee'),\n",
    "    (5,4,'2023-04-19','2028-06-19','n',1000000,'Firm Fixed-Price'),\n",
    "    (6,5,'2022-02-29','2025-07-01','y',15000,'Firm Fixed-Price'),\n",
    "    (7,6,'2031-06-12','2038-05-08','n',1400,'Cost-Plus Fixed Fee'),\n",
    "    (8,7,'2019-02-22','2026-09-17','y',33000,'Cost-Plus Incentive Fee'),\n",
    "    (9,8,'2025-06-15','2031-06-02','n',44000,'Cost-Plus Fixed Fee'),\n",
    "    (10,9,'2022-08-19','2024-09-06','y',44300,'Cost-Plus Incentive Fee'),\n",
    "    (11,9,'2024-09-07','2026-10-13','n',33000,'Firm Fixed-Price'),\n",
    "    (12,10,'2016-08-09','2026-08-26','y',2000000,'Firm Fixed-Price'),\n",
    "    (13,10,'2026-08-27','2036-08-28','y',2000000,'Firm Fixed-Price')\n",
    "]"
   ]
  },
  {
   "cell_type": "code",
   "execution_count": 651,
   "id": "44c6ca67-182f-4cdb-8644-c50ef22f23a3",
   "metadata": {},
   "outputs": [],
   "source": [
    "performances = [\n",
    "    (1,1,10,'very good',99,'very good','2024-08-24'),\n",
    "    (2,2,20,'good',98,'very good','2024-05-03'),\n",
    "    (3,3,150,'poor',45,'poor','2020-01-13'),\n",
    "    (4,4,17,'very poor',66,'good','2023-04-19'),\n",
    "    (5,5,22,'poor',98,'very good','2022-02-29'),\n",
    "    (6,6,28,'good',97,'very good','2013-06-12'),\n",
    "    (7,7,11,'good',88,'good','2019-02-22'),\n",
    "    (8,8,10,'very good',100,'very good','2025-06-15'),\n",
    "    (9,9,44,'very good',100,'very good','2022-08-19'),\n",
    "    (10,10,22,'very good',100,'good', '2016-08-09')\n",
    "]"
   ]
  },
  {
   "cell_type": "code",
   "execution_count": 653,
   "id": "1f2e2e67-6a04-4679-b9e1-fee28f0b2c56",
   "metadata": {},
   "outputs": [
    {
     "ename": "OperationalError",
     "evalue": "table suppliers already exists",
     "output_type": "error",
     "traceback": [
      "\u001b[0;31m---------------------------------------------------------------------------\u001b[0m",
      "\u001b[0;31mOperationalError\u001b[0m                          Traceback (most recent call last)",
      "Cell \u001b[0;32mIn[653], line 2\u001b[0m\n\u001b[1;32m      1\u001b[0m \u001b[38;5;28;01mwith\u001b[39;00m sqlite3\u001b[38;5;241m.\u001b[39mconnect(\u001b[38;5;124m'\u001b[39m\u001b[38;5;124mProcurementContactDatabase.db\u001b[39m\u001b[38;5;124m'\u001b[39m) \u001b[38;5;28;01mas\u001b[39;00m conn:\n\u001b[0;32m----> 2\u001b[0m         conn\u001b[38;5;241m.\u001b[39mexecute(create_suppliers_table)\n\u001b[1;32m      3\u001b[0m         conn\u001b[38;5;241m.\u001b[39mexecute(create_contracts_table)\n\u001b[1;32m      4\u001b[0m         conn\u001b[38;5;241m.\u001b[39mexecute(create_supplier_performance_table)\n",
      "\u001b[0;31mOperationalError\u001b[0m: table suppliers already exists"
     ]
    }
   ],
   "source": [
    "with sqlite3.connect('ProcurementContactDatabase.db') as conn:\n",
    "        conn.execute(create_suppliers_table)\n",
    "        conn.execute(create_contracts_table)\n",
    "        conn.execute(create_supplier_performance_table)\n",
    "        for supplier in suppliers:\n",
    "                conn.execute(insert_suppliers_data, supplier)\n",
    "        for contract in contracts:\n",
    "                conn.execute(insert_contracts_data, contract)\n",
    "        for performance in performances:\n",
    "                conn.execute(insert_supplier_performance_data, performance)\n",
    "        conn.commit()\n",
    "        print(\"Database successfully created!\")"
   ]
  },
  {
   "cell_type": "code",
   "execution_count": null,
   "id": "8784edaa-ce49-4c38-9c9f-12cd3bb718f9",
   "metadata": {},
   "outputs": [],
   "source": []
  },
  {
   "cell_type": "code",
   "execution_count": null,
   "id": "335d979a-4fbe-4145-bc04-3183920f9e0f",
   "metadata": {},
   "outputs": [],
   "source": []
  },
  {
   "cell_type": "code",
   "execution_count": null,
   "id": "a26ffcba-014d-4b54-be6a-851ed95a7f03",
   "metadata": {},
   "outputs": [],
   "source": []
  }
 ],
 "metadata": {
  "kernelspec": {
   "display_name": "Python 3 (ipykernel)",
   "language": "python",
   "name": "python3"
  },
  "language_info": {
   "codemirror_mode": {
    "name": "ipython",
    "version": 3
   },
   "file_extension": ".py",
   "mimetype": "text/x-python",
   "name": "python",
   "nbconvert_exporter": "python",
   "pygments_lexer": "ipython3",
   "version": "3.11.7"
  }
 },
 "nbformat": 4,
 "nbformat_minor": 5
}

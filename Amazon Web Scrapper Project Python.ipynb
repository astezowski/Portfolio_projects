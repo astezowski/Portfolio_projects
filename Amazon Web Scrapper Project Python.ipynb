{
 "cells": [
  {
   "cell_type": "code",
   "execution_count": null,
   "id": "ef040c0a-e840-439a-8a19-07c08217122d",
   "metadata": {},
   "outputs": [],
   "source": [
    "#Import Libraries "
   ]
  },
  {
   "cell_type": "code",
   "execution_count": null,
   "id": "dbae2119-b996-455c-8f5a-7dbe9a88cbe0",
   "metadata": {},
   "outputs": [],
   "source": [
    "from bs4 import BeautifulSoup\n",
    "import requests \n",
    "import smtplib\n",
    "import time \n",
    "import datetime"
   ]
  },
  {
   "cell_type": "code",
   "execution_count": null,
   "id": "51d6f199-cecc-4af1-9b47-fc1383bf28f4",
   "metadata": {},
   "outputs": [],
   "source": [
    "# Connect to Website \n",
    "\n",
    "URL = 'https://www.amazon.com/Walter-Shields/dp/1945051752/ref=sr_1_1_sspa?__mk_es_US=%C3%85M%C3%85%C5%BD%C3%95%C3%91&crid=1ABTVBM7Q108N&dib=eyJ2IjoiMSJ9.KuK6EWeQT7GH19JQcvK2zfT3XzjV4DWbxvU8gpaNumSAml3I4YUY8GXQVvmJjLWmsjrm3r8_HyDqmuvWv1dvGaJw51Vm9OSV9qj1UfCPEIMeZwP5uFfYjYlgKNQYCT-X4fBg_DW76CJvpZL_W_VvHZ1kOyP0L1o1YpZl7LoBRelg87tBAIrpk5-6QKOvn6Zf6JymfMz6K7UrSCE7simClk0FWy8pGvzvmmKX77xACA_r-HKikckBIN3jfmBCazTrCbA19d2DK-g5jtcOp1gEB0ITvuCwfx-RygRXf-3Y3xk.Cp0ghUtZtiqj_oTcDECR7nfOjXQ7U7MVOBUjT4getkA&dib_tag=se&keywords=SQL+book&qid=1719597023&sprefix=sql+book%2Caps%2C123&sr=8-1-spons&sp_csd=d2lkZ2V0TmFtZT1zcF9hdGY&psc=1'\n",
    "headers =  {\"User-Agent\": \"Mozilla/5.0 (Macintosh; Intel Mac OS X 10_15_7) AppleWebKit/537.36 (KHTML, like Gecko) Chrome/126.0.0.0 Safari/537.36\" , \"Accept-Encoding\":\"gzip, deflate\", \"Accept\":\"text/html,application/xhtml+xml,application/xml;q=0.9,*/*;q=0.8\", \"DNT\":\"1\",\"Connection\":\"close\", \"Upgrade-Insecure-Requests\":\"1\"}\n",
    "page = requests.get(URL, headers=headers)\n",
    "soup1 = BeautifulSoup(page.content, \"html.parser\")\n",
    "soup2 = BeautifulSoup(soup1.prettify(),'html.parser')\n",
    "title = soup2.find(id='productTitle').get_text()\n",
    "price = soup2.find(id=\"apex_offerDisplay_expanded\").get_text()\n",
    "print(title)\n",
    "print(price)"
   ]
  },
  {
   "cell_type": "code",
   "execution_count": null,
   "id": "408cb69e-43d1-4532-b9f7-c870acb61b82",
   "metadata": {},
   "outputs": [],
   "source": [
    "# Clean up the data a little bit\n",
    "\n",
    "price = price.strip()[1:6]\n",
    "title = title.strip()\n",
    "\n",
    "print(title)\n",
    "print(price)"
   ]
  },
  {
   "cell_type": "code",
   "execution_count": null,
   "id": "49e8de69-d9df-4f33-b5e1-f9ebf2652e61",
   "metadata": {},
   "outputs": [],
   "source": [
    "import datetime\n",
    "today = datetime.date.today()\n",
    "\n",
    "print(today)"
   ]
  },
  {
   "cell_type": "code",
   "execution_count": null,
   "id": "68698cf1-0491-4c19-ac57-0a48b20961b1",
   "metadata": {},
   "outputs": [],
   "source": [
    "import csv\n",
    "header = ['Title','Price','Date']\n",
    "data = [title, price,today]\n",
    "\n",
    "#with open('AmazonWebScrapperDataSet.csv', 'w', newline='',encoding='UTF8') as f:\n",
    "   #writer = csv.writer(f)\n",
    "    #writer.writerow(header)\n",
    "   #writer.writerow(data)"
   ]
  },
  {
   "cell_type": "code",
   "execution_count": null,
   "id": "6fa2ecab-a8e4-4a0a-9ff3-90a53e05df5a",
   "metadata": {},
   "outputs": [],
   "source": [
    "import pandas as pd\n",
    "df = pd.read_csv(r\"/Users/admin/AmazonWebScrapperDataSet.csv\")\n",
    "\n",
    "print(df)"
   ]
  },
  {
   "cell_type": "code",
   "execution_count": null,
   "id": "414f0757-8dc4-44e9-8ea1-a67d976cb8d6",
   "metadata": {},
   "outputs": [],
   "source": [
    "\n",
    "#appending data to the csv\n",
    "\n",
    "with open('AmazonWebScrapperDataSet.csv', 'a+', newline='',encoding='UTF8') as f:\n",
    "    writer = csv.writer(f)\n",
    "    writer.writerow(data)"
   ]
  },
  {
   "cell_type": "code",
   "execution_count": null,
   "id": "6e9f732b-b811-4b36-8293-1134a8a00b85",
   "metadata": {},
   "outputs": [],
   "source": [
    "\n",
    "def check_price():\n",
    "    \n",
    "    URL = 'https://www.amazon.com/Walter-Shields/dp/1945051752/ref=sr_1_1_sspa?__mk_es_US=%C3%85M%C3%85%C5%BD%C3%95%C3%91&crid=1ABTVBM7Q108N&dib=eyJ2IjoiMSJ9.KuK6EWeQT7GH19JQcvK2zfT3XzjV4DWbxvU8gpaNumSAml3I4YUY8GXQVvmJjLWmsjrm3r8_HyDqmuvWv1dvGaJw51Vm9OSV9qj1UfCPEIMeZwP5uFfYjYlgKNQYCT-X4fBg_DW76CJvpZL_W_VvHZ1kOyP0L1o1YpZl7LoBRelg87tBAIrpk5-6QKOvn6Zf6JymfMz6K7UrSCE7simClk0FWy8pGvzvmmKX77xACA_r-HKikckBIN3jfmBCazTrCbA19d2DK-g5jtcOp1gEB0ITvuCwfx-RygRXf-3Y3xk.Cp0ghUtZtiqj_oTcDECR7nfOjXQ7U7MVOBUjT4getkA&dib_tag=se&keywords=SQL+book&qid=1719597023&sprefix=sql+book%2Caps%2C123&sr=8-1-spons&sp_csd=d2lkZ2V0TmFtZT1zcF9hdGY&psc=1'\n",
    "    headers =  {\"User-Agent\": \"Mozilla/5.0 (Macintosh; Intel Mac OS X 10_15_7) AppleWebKit/537.36 (KHTML, like Gecko) Chrome/126.0.0.0 Safari/537.36\" , \"Accept-Encoding\":\"gzip, deflate\", \"Accept\":\"text/html,application/xhtml+xml,application/xml;q=0.9,*/*;q=0.8\", \"DNT\":\"1\",\"Connection\":\"close\", \"Upgrade-Insecure-Requests\":\"1\"}\n",
    "    page = requests.get(URL, headers=headers)\n",
    "    soup1 = BeautifulSoup(page.content, \"html.parser\")\n",
    "    soup2 = BeautifulSoup(soup1.prettify(),'html.parser')\n",
    "    title = soup2.find(id='productTitle').get_text()\n",
    "    price = soup2.find(id=\"apex_offerDisplay_expanded\").get_text()\n",
    "    \n",
    "    price = price.strip()[1:6]\n",
    "    title = title.strip()\n",
    "\n",
    "    import datetime\n",
    "    today = datetime.date.today()\n",
    "\n",
    "    import csv\n",
    "    header = ['Title','Price','Date']\n",
    "    data = [title, price,today]\n",
    "    \n",
    "    with open('AmazonWebScrapperDataSet.csv', 'a+', newline='',encoding='UTF8') as f:\n",
    "        writer = csv.writer(f)\n",
    "        writer.writerow(data)\n"
   ]
  },
  {
   "cell_type": "code",
   "execution_count": null,
   "id": "779b93a8-227c-4c0c-964e-c6d2e472adb3",
   "metadata": {},
   "outputs": [],
   "source": [
    "while(True):\n",
    "    check_price()\n",
    "    time.sleep(86400)"
   ]
  },
  {
   "cell_type": "code",
   "execution_count": 31,
   "id": "6781e5fe-8227-4ebe-aa46-0479651b8f90",
   "metadata": {},
   "outputs": [
    {
     "name": "stdout",
     "output_type": "stream",
     "text": [
      "                                               Title  Price        Date\n",
      "0  SQL QuickStart Guide: The Simplified Beginner'...  23.99  2024-06-29\n",
      "1  SQL QuickStart Guide: The Simplified Beginner'...  23.99  2024-06-29\n",
      "2  SQL QuickStart Guide: The Simplified Beginner'...  23.99  2024-06-29\n",
      "3  SQL QuickStart Guide: The Simplified Beginner'...  23.99  2024-06-29\n",
      "4  SQL QuickStart Guide: The Simplified Beginner'...  23.99  2024-06-30\n",
      "5  SQL QuickStart Guide: The Simplified Beginner'...  23.99  2024-06-30\n"
     ]
    }
   ],
   "source": [
    "import pandas as pd\n",
    "df = pd.read_csv(r\"/Users/admin/AmazonWebScrapperDataSet.csv\")\n",
    "\n",
    "print(df)"
   ]
  },
  {
   "cell_type": "code",
   "execution_count": null,
   "id": "7ccc156c-f65f-477b-8273-548ddff520b3",
   "metadata": {},
   "outputs": [],
   "source": [
    "def send_mail():\n",
    "    server = smtplib.SMTP_SSL('smtp.gmail.com',465)\n",
    "    server.ehlo()\n",
    "    #server.starttls()\n",
    "    server.ehlo()\n",
    "    server.login('alexstezowski@gmail.com','civilwar1234')\n",
    "    \n",
    "    subject = \"Price drop, buy now!\"\n",
    "    body = \"HPrice drop, buy now! : https://www.amazon.com/Walter-Shields/dp/1945051752/ref=sr_1_1_sspa?__mk_es_US=%C3%85M%C3%85%C5%BD%C3%95%C3%91&crid=1ABTVBM7Q108N&dib=eyJ2IjoiMSJ9.KuK6EWeQT7GH19JQcvK2zfT3XzjV4DWbxvU8gpaNumSAml3I4YUY8GXQVvmJjLWmsjrm3r8_HyDqmuvWv1dvGaJw51Vm9OSV9qj1UfCPEIMeZwP5uFfYjYlgKNQYCT-X4fBg_DW76CJvpZL_W_VvHZ1kOyP0L1o1YpZl7LoBRelg87tBAIrpk5-6QKOvn6Zf6JymfMz6K7UrSCE7simClk0FWy8pGvzvmmKX77xACA_r-HKikckBIN3jfmBCazTrCbA19d2DK-g5jtcOp1gEB0ITvuCwfx-RygRXf-3Y3xk.Cp0ghUtZtiqj_oTcDECR7nfOjXQ7U7MVOBUjT4getkA&dib_tag=se&keywords=SQL+book&qid=1719597023&sprefix=sql+book%2Caps%2C123&sr=8-1-spons&sp_csd=d2lkZ2V0TmFtZT1zcF9hdGY&psc=1\"\n",
    "   \n",
    "    msg = f\"Subject: {subject}\\n\\n{body}\"\n",
    "    \n",
    "    server.sendmail(\n",
    "        'alexstezowski@gmail.com',\n",
    "        msg\n",
    "    \n",
    "    )"
   ]
  },
  {
   "cell_type": "code",
   "execution_count": null,
   "id": "eda22e59-9140-4934-a615-70eb9b12edfc",
   "metadata": {},
   "outputs": [],
   "source": []
  },
  {
   "cell_type": "code",
   "execution_count": null,
   "id": "26b02a8d-b8ed-4c96-9e3f-007738d35983",
   "metadata": {},
   "outputs": [],
   "source": []
  },
  {
   "cell_type": "code",
   "execution_count": null,
   "id": "2104366d-c5fc-4cd9-8fe5-cc17942ca403",
   "metadata": {},
   "outputs": [],
   "source": []
  },
  {
   "cell_type": "code",
   "execution_count": null,
   "id": "13edb041-ab54-4ff8-a163-9c84a7b34640",
   "metadata": {},
   "outputs": [],
   "source": []
  },
  {
   "cell_type": "code",
   "execution_count": null,
   "id": "5e320717-106a-4a3e-b15e-4fa2d61dfea4",
   "metadata": {},
   "outputs": [],
   "source": []
  }
 ],
 "metadata": {
  "kernelspec": {
   "display_name": "Python 3 (ipykernel)",
   "language": "python",
   "name": "python3"
  },
  "language_info": {
   "codemirror_mode": {
    "name": "ipython",
    "version": 3
   },
   "file_extension": ".py",
   "mimetype": "text/x-python",
   "name": "python",
   "nbconvert_exporter": "python",
   "pygments_lexer": "ipython3",
   "version": "3.11.7"
  }
 },
 "nbformat": 4,
 "nbformat_minor": 5
}
